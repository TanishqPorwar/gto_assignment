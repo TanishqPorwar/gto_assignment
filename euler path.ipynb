{
 "cells": [
  {
   "cell_type": "code",
   "execution_count": 1,
   "metadata": {},
   "outputs": [],
   "source": [
    "from pyvis.network import Network\n",
    "from collections import defaultdict\n",
    "from copy import copy"
   ]
  },
  {
   "cell_type": "markdown",
   "metadata": {},
   "source": [
    "# Graph class\n",
    "\n",
    "`constructur()`: takes list of edges and umber of vertices as input\n",
    "\n",
    "`adjList`: is the adjacency list of the whole graph\n",
    "\n",
    "`net`: is the object of pyvis library to visualize the graph \n",
    "\n",
    "`visualize()`: takes a list of edges(eulerian path) as input and returns a graph with the correct path labelled"
   ]
  },
  {
   "cell_type": "code",
   "execution_count": 2,
   "metadata": {},
   "outputs": [],
   "source": [
    "class Graph:\n",
    "    \n",
    "    # Constructor\n",
    "    def __init__(self, edges, N):\n",
    " \n",
    "        # A list of lists to represent an adjacency list\n",
    "        self.adjList = defaultdict(lambda : [])\n",
    "        \n",
    "        # for visualizing the graph\n",
    "        self.net = Network(notebook=True)\n",
    "        self.net.add_nodes(list(range(N)))\n",
    "        self.net.add_edges(edges)\n",
    "        \n",
    "        # add edges to the undirected graph\n",
    "        for (src, dest) in edges:\n",
    "            self.adjList[src].append(dest)\n",
    "            self.adjList[dest].append(src)\n",
    "    \n",
    "    def visualize(self,x):\n",
    "        allEd = self.net.get_edges()\n",
    "        for j in allEd:\n",
    "            j.pop('color',None)\n",
    "            j.pop('width',None)\n",
    "        ctr = ord('a')-1\n",
    "        for edge in x:\n",
    "            for j in allEd:\n",
    "                if (j['from']==edge[0] and j['to']==edge[1]) or (j['from']==edge[1] and j['to']==edge[0]) :\n",
    "                    ctr+=1\n",
    "                    j['color'] = 'rgba(40,174,127,0.7)'\n",
    "                    j['width'] = 5\n",
    "                    j['label'] = chr(ctr)"
   ]
  },
  {
   "cell_type": "markdown",
   "metadata": {},
   "source": [
    "# Fleury Algorithm:\n",
    "\n",
    "`is_connected()`: Checks if a graph is connected or not\n",
    "\n",
    "`odd_degree_nodes()`: return a list of all odd degree vertices\n",
    "\n",
    "`fleury()`: implementation of the fleury algorithm that return the eulerian path for a graph if it exists"
   ]
  },
  {
   "cell_type": "code",
   "execution_count": 3,
   "metadata": {},
   "outputs": [],
   "source": [
    "'''\n",
    "    is_connected - Checks if a graph in the form of a dictionary is \n",
    "    connected or not, using Breadth-First Search Algorithm (BFS)\n",
    "'''\n",
    "\n",
    "def is_connected(G):\n",
    "    start_node = list(G)[0]\n",
    "    color = {v: 'white' for v in G}\n",
    "    color[start_node] = 'gray'\n",
    "    S = [start_node]\n",
    "    while len(S) != 0:\n",
    "        u = S.pop()\n",
    "        for v in G[u]:\n",
    "            if color[v] == 'white':\n",
    "                color[v] = 'gray'\n",
    "                S.append(v)\n",
    "            color[u] = 'black'\n",
    "    return list(color.values()).count('black') == len(G)\n",
    "\n",
    "'''\n",
    "    odd_degree_nodes - returns a list of all G odd degrees nodes\n",
    "'''\n",
    "def odd_degree_nodes(G):\n",
    "    odd_degree_nodes = []\n",
    "    for u in G:\n",
    "        if len(G[u]) % 2 != 0:\n",
    "            odd_degree_nodes.append(u)\n",
    "    return odd_degree_nodes\n",
    "\n",
    "'''\n",
    "    from_dict - return a list of tuples links from a graph G in a \n",
    "    dictionary format\n",
    "'''\t\n",
    "def from_dict(G):\n",
    "    links = []\n",
    "    for u in G:\n",
    "        for v in G[u]:\n",
    "            links.append((u,v))\n",
    "    return links\n",
    "\n",
    "'''\n",
    "    fleury(G) - return eulerian trail from graph G or a \n",
    "    string 'Not Eulerian Graph' if it's not possible to trail a path\n",
    "'''\n",
    "def fleury(G):\n",
    "    '''\n",
    "        checks if G has eulerian cycle or trail\n",
    "    '''\n",
    "    odn = odd_degree_nodes(G)\n",
    "    if len(odn) > 2 or len(odn) == 1:\n",
    "        return 'Not Eulerian Graph'\n",
    "    else:\n",
    "        g = copy(G)\n",
    "        trail = []\n",
    "        if len(odn) == 2:\n",
    "            u = odn[0]\n",
    "        else:\n",
    "            u = list(g)[0]\n",
    "        while len(from_dict(g)) > 0:\n",
    "            current_vertex = u\n",
    "            for u in g[current_vertex]:\n",
    "                g[current_vertex].remove(u)\n",
    "                g[u].remove(current_vertex)\n",
    "                bridge = not is_connected(g)\n",
    "                if bridge:\n",
    "                    g[current_vertex].append(u)\n",
    "                    g[u].append(current_vertex)\n",
    "                else:\n",
    "                    break\n",
    "            if bridge:\n",
    "                g[current_vertex].remove(u)\n",
    "                g[u].remove(current_vertex)\n",
    "                g.pop(current_vertex)\n",
    "            trail.append((current_vertex, u))\n",
    "    return trail"
   ]
  },
  {
   "cell_type": "markdown",
   "metadata": {},
   "source": [
    "### Sample input 1"
   ]
  },
  {
   "cell_type": "code",
   "execution_count": 4,
   "metadata": {},
   "outputs": [
    {
     "name": "stdout",
     "output_type": "stream",
     "text": [
      "Eulerian path: [(0, 1), (1, 2)]\n"
     ]
    },
    {
     "data": {
      "text/html": [
       "\n",
       "        <iframe\n",
       "            width=\"500px\"\n",
       "            height=\"500px\"\n",
       "            src=\"a1.html\"\n",
       "            frameborder=\"0\"\n",
       "            allowfullscreen\n",
       "        ></iframe>\n",
       "        "
      ],
      "text/plain": [
       "<IPython.lib.display.IFrame at 0x2bf7fbb9d90>"
      ]
     },
     "execution_count": 4,
     "metadata": {},
     "output_type": "execute_result"
    }
   ],
   "source": [
    "g = Graph([(0, 1),(1,2)],3)\n",
    "x = fleury(g.adjList)\n",
    "print(\"Eulerian path:\",x)\n",
    "g.net.show(\"a1.html\")"
   ]
  },
  {
   "cell_type": "code",
   "execution_count": 5,
   "metadata": {},
   "outputs": [
    {
     "data": {
      "text/html": [
       "\n",
       "        <iframe\n",
       "            width=\"500px\"\n",
       "            height=\"500px\"\n",
       "            src=\"b1.html\"\n",
       "            frameborder=\"0\"\n",
       "            allowfullscreen\n",
       "        ></iframe>\n",
       "        "
      ],
      "text/plain": [
       "<IPython.lib.display.IFrame at 0x2bf7fc013a0>"
      ]
     },
     "execution_count": 5,
     "metadata": {},
     "output_type": "execute_result"
    }
   ],
   "source": [
    "g.visualize(x)\n",
    "g.net.show(\"b1.html\")"
   ]
  },
  {
   "cell_type": "code",
   "execution_count": null,
   "metadata": {},
   "outputs": [],
   "source": []
  },
  {
   "cell_type": "markdown",
   "metadata": {},
   "source": [
    "### sample input 2"
   ]
  },
  {
   "cell_type": "code",
   "execution_count": 6,
   "metadata": {},
   "outputs": [
    {
     "name": "stdout",
     "output_type": "stream",
     "text": [
      "Example Eulerian Cycle\n",
      "Eulerian path:  [(0, 1), (1, 2), (2, 3), (3, 1), (1, 8), (8, 0), (0, 4), (4, 3), (3, 5), (5, 6), (6, 8), (8, 7), (7, 6), (6, 0)]\n"
     ]
    },
    {
     "data": {
      "text/html": [
       "\n",
       "        <iframe\n",
       "            width=\"500px\"\n",
       "            height=\"500px\"\n",
       "            src=\"a2.html\"\n",
       "            frameborder=\"0\"\n",
       "            allowfullscreen\n",
       "        ></iframe>\n",
       "        "
      ],
      "text/plain": [
       "<IPython.lib.display.IFrame at 0x2bf7fbbff10>"
      ]
     },
     "execution_count": 6,
     "metadata": {},
     "output_type": "execute_result"
    }
   ],
   "source": [
    "# # testing an eulerian cycle\n",
    "print('Example Eulerian Cycle')\n",
    "g2 = Graph([(0,1),(0,4),(0,6),(0,8),(1,2),(1,3),(1,8),(2,3),(3,4),(3,5),(5,6),(6,7),(6,8),(7,8)],9)\n",
    "x = fleury(g2.adjList)\n",
    "print(\"Eulerian path: \",x)\n",
    "g2.net.show(\"a2.html\")"
   ]
  },
  {
   "cell_type": "code",
   "execution_count": 7,
   "metadata": {},
   "outputs": [
    {
     "data": {
      "text/html": [
       "\n",
       "        <iframe\n",
       "            width=\"500px\"\n",
       "            height=\"500px\"\n",
       "            src=\"b2.html\"\n",
       "            frameborder=\"0\"\n",
       "            allowfullscreen\n",
       "        ></iframe>\n",
       "        "
      ],
      "text/plain": [
       "<IPython.lib.display.IFrame at 0x2bf02775880>"
      ]
     },
     "execution_count": 7,
     "metadata": {},
     "output_type": "execute_result"
    }
   ],
   "source": [
    "g2.visualize(x)\n",
    "g2.net.show(\"b2.html\")"
   ]
  },
  {
   "cell_type": "code",
   "execution_count": null,
   "metadata": {},
   "outputs": [],
   "source": []
  },
  {
   "cell_type": "markdown",
   "metadata": {},
   "source": [
    "### sample input 3: Konigsberg bridges"
   ]
  },
  {
   "cell_type": "code",
   "execution_count": 8,
   "metadata": {},
   "outputs": [
    {
     "name": "stdout",
     "output_type": "stream",
     "text": [
      "Konigsberg\n",
      "Not Eulerian Graph\n"
     ]
    }
   ],
   "source": [
    "# testing seven bridges of konigsberg\n",
    "print('Konigsberg')\n",
    "G = {0: [2, 2, 3], 1: [2, 2, 3], 2: [0, 0, 1, 1, 3], 3: [0, 1, 2]}\n",
    "print(fleury(G))"
   ]
  },
  {
   "cell_type": "code",
   "execution_count": null,
   "metadata": {},
   "outputs": [],
   "source": []
  }
 ],
 "metadata": {
  "kernelspec": {
   "display_name": "Python 3",
   "language": "python",
   "name": "python3"
  },
  "language_info": {
   "codemirror_mode": {
    "name": "ipython",
    "version": 3
   },
   "file_extension": ".py",
   "mimetype": "text/x-python",
   "name": "python",
   "nbconvert_exporter": "python",
   "pygments_lexer": "ipython3",
   "version": "3.8.5"
  }
 },
 "nbformat": 4,
 "nbformat_minor": 4
}
